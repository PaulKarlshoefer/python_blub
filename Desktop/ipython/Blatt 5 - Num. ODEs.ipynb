{
 "metadata": {
  "name": "",
  "signature": "sha256:289e7e2d9ae0ee812dff31b4d13cbe2e61ba489cc76f6894839fcfa9cc9c1dca"
 },
 "nbformat": 3,
 "nbformat_minor": 0,
 "worksheets": [
  {
   "cells": [
    {
     "cell_type": "code",
     "collapsed": false,
     "input": [
      "%pylab inline\n",
      "import sympy as sym\n",
      "sym.init_printing()"
     ],
     "language": "python",
     "metadata": {},
     "outputs": [
      {
       "output_type": "stream",
       "stream": "stdout",
       "text": [
        "Populating the interactive namespace from numpy and matplotlib\n"
       ]
      },
      {
       "output_type": "stream",
       "stream": "stderr",
       "text": [
        "WARNING: pylab import has clobbered these variables: ['f']\n",
        "`%matplotlib` prevents importing * from pylab and numpy\n"
       ]
      }
     ],
     "prompt_number": 94
    },
    {
     "cell_type": "code",
     "collapsed": false,
     "input": [
      "t_,y_ = sym.symbols('t y')\n",
      "f_ = -2*y_\n",
      "f_"
     ],
     "language": "python",
     "metadata": {},
     "outputs": [
      {
       "latex": [
        "$$- 2 y$$"
       ],
       "metadata": {},
       "output_type": "pyout",
       "png": "[encoded data removed]",
       "prompt_number": 95,
       "text": [
        "-2\u22c5y"
       ]
      }
     ],
     "prompt_number": 95
    },
    {
     "cell_type": "heading",
     "level": 1,
     "metadata": {},
     "source": [
      "Analytic Solution"
     ]
    },
    {
     "cell_type": "code",
     "collapsed": false,
     "input": [
      "y_sol_ = sym.exp(-2*t_)\n",
      "y_sol_"
     ],
     "language": "python",
     "metadata": {},
     "outputs": [
      {
       "latex": [
        "$$e^{- 2 t}$$"
       ],
       "metadata": {},
       "output_type": "pyout",
       "png": "[encoded data removed]",
       "prompt_number": 96,
       "text": [
        " -2\u22c5t\n",
        "\u212f    "
       ]
      }
     ],
     "prompt_number": 96
    },
    {
     "cell_type": "code",
     "collapsed": false,
     "input": [
      "y_sol = sym.lambdify(t_,y_sol_,modules='numpy')\n",
      "y_sol(array([0,1,2,3]))"
     ],
     "language": "python",
     "metadata": {},
     "outputs": [
      {
       "metadata": {},
       "output_type": "pyout",
       "prompt_number": 97,
       "text": [
        "array([ 1.        ,  0.13533528,  0.01831564,  0.00247875])"
       ]
      }
     ],
     "prompt_number": 97
    },
    {
     "cell_type": "code",
     "collapsed": false,
     "input": [
      "dt = 0.001\n",
      "t_range = arange(0,1,dt)\n",
      "\n",
      "sol = plot(t_range,y_sol(t_range),'.')"
     ],
     "language": "python",
     "metadata": {},
     "outputs": [
      {
       "metadata": {},
       "output_type": "display_data",
       "png": "[encoded data removed]",
       "text": [
        "<matplotlib.figure.Figure at 0x7f1fb4ddd950>"
       ]
      }
     ],
     "prompt_number": 99
    },
    {
     "cell_type": "heading",
     "level": 1,
     "metadata": {},
     "source": [
      "Euler"
     ]
    },
    {
     "cell_type": "code",
     "collapsed": false,
     "input": [
      "def euler(f,x,t,dt):\n",
      "    '''Function for ODE f with tupel x as arguments '''\n",
      "    return x+dt*f(x,t)"
     ],
     "language": "python",
     "metadata": {},
     "outputs": [],
     "prompt_number": 100
    },
    {
     "cell_type": "code",
     "collapsed": false,
     "input": [
      "def solve_ode(method,f,x0,tend,dt):\n",
      "    t = arange(0,tend+dt/2.,dt)\n",
      "    x = zeros(t.size)\n",
      "    x[0] = x0\n",
      "    \n",
      "    for i in range(t.size-1):\n",
      "        x[i+1] = method(f,x[i],t[i],dt)\n",
      "        \n",
      "    return x,t"
     ],
     "language": "python",
     "metadata": {},
     "outputs": [],
     "prompt_number": 101
    },
    {
     "cell_type": "markdown",
     "metadata": {},
     "source": [
      "Create a numerical function from symbolic ODE, which fits the frame $f(x,t)$"
     ]
    },
    {
     "cell_type": "code",
     "collapsed": false,
     "input": [
      "f = sym.lambdify([y_,t_],f_,modules='numpy')\n",
      "f(1.0,0)\n",
      "f(2.0,0)"
     ],
     "language": "python",
     "metadata": {},
     "outputs": [
      {
       "latex": [
        "$$-4.0$$"
       ],
       "metadata": {},
       "output_type": "pyout",
       "png": "[encoded data removed]",
       "prompt_number": 104,
       "text": [
        "-4.0"
       ]
      }
     ],
     "prompt_number": 104
    },
    {
     "cell_type": "code",
     "collapsed": false,
     "input": [
      "y0=1.0\n",
      "tend = 1.0\n",
      "dt=0.1\n",
      "\n",
      "y_euler,t_euler= solve_ode(euler,f,y0,tend,dt)\n",
      "\n",
      "plot(t_euler,y_euler,'o-')\n",
      "plot(t_range,y_sol(t_range))"
     ],
     "language": "python",
     "metadata": {},
     "outputs": [
      {
       "metadata": {},
       "output_type": "pyout",
       "prompt_number": 115,
       "text": [
        "[<matplotlib.lines.Line2D at 0x7f1fb45c76d0>]"
       ]
      },
      {
       "metadata": {},
       "output_type": "display_data",
       "png": "[encoded data removed]",
       "text": [
        "<matplotlib.figure.Figure at 0x7f1fb45c78d0>"
       ]
      }
     ],
     "prompt_number": 115
    },
    {
     "cell_type": "heading",
     "level": 1,
     "metadata": {},
     "source": [
      "Heun"
     ]
    },
    {
     "cell_type": "code",
     "collapsed": false,
     "input": [
      "def heun(f,x,t,dt):\n",
      "    return x + 0.5*dt*(f(x,t) + f( euler(f,x,t,dt) ,t+dt))"
     ],
     "language": "python",
     "metadata": {},
     "outputs": [],
     "prompt_number": 116
    },
    {
     "cell_type": "code",
     "collapsed": false,
     "input": [
      "dt=0.1\n",
      "tend=1\n",
      "\n",
      "y_heun, t_heun = solve_ode(heun,f,y0,tend,dt)\n",
      "\n",
      "plot(t_heun,y_heun,'o-')\n",
      "plot(t_range,y_sol(t_range))"
     ],
     "language": "python",
     "metadata": {},
     "outputs": [
      {
       "metadata": {},
       "output_type": "pyout",
       "prompt_number": 124,
       "text": [
        "[<matplotlib.lines.Line2D at 0x7f1fb41f62d0>]"
       ]
      },
      {
       "metadata": {},
       "output_type": "display_data",
       "png": "[encoded data removed]",
       "text": [
        "<matplotlib.figure.Figure at 0x7f1fa49f7f90>"
       ]
      }
     ],
     "prompt_number": 124
    },
    {
     "cell_type": "heading",
     "level": 1,
     "metadata": {},
     "source": [
      "Konvergenz Euler"
     ]
    },
    {
     "cell_type": "code",
     "collapsed": false,
     "input": [
      "def error(approximation, exact_solution):\n",
      "    return sqrt(1./(approximation.size)*((approximation-exact_solution)**2).sum())"
     ],
     "language": "python",
     "metadata": {},
     "outputs": [],
     "prompt_number": 125
    },
    {
     "cell_type": "code",
     "collapsed": false,
     "input": [
      "error(y_euler,y_sol(t_euler))"
     ],
     "language": "python",
     "metadata": {},
     "outputs": [
      {
       "latex": [
        "$$0.0324977559586$$"
       ],
       "metadata": {},
       "output_type": "pyout",
       "png": "[encoded data removed]",
       "prompt_number": 126,
       "text": [
        "0.0324977559586"
       ]
      }
     ],
     "prompt_number": 126
    },
    {
     "cell_type": "code",
     "collapsed": false,
     "input": [
      "e_euler = []\n",
      "n_range = 18\n",
      "for i in range(n_range):\n",
      "    dt = 1./(2.**i)\n",
      "    y , t = solve_ode(euler,f,y0,tend,dt)\n",
      "    e_euler.append(error(y,y_sol(t)))\n",
      "    print '{}: {}'.format(i,error(y,y_sol(t)))\n",
      "print \n",
      "\n",
      "e_euler = array(e_euler)\n",
      "print e_euler[:-1]/e_euler[1:]\n"
     ],
     "language": "python",
     "metadata": {},
     "outputs": [
      {
       "output_type": "stream",
       "stream": "stdout",
       "text": [
        "0: 0.802803277697\n",
        "1: 0.226311674559\n",
        "2: 0.0896424574904\n",
        "3: 0.0412179789048\n",
        "4: 0.0198974966207\n",
        "5: 0.0097904740949\n",
        "6: 0.0048578940609\n",
        "7: 0.00241987620594\n",
        "8: 0.00120770270395\n",
        "9: 0.000603296490749\n",
        "10: 0.000301510025537\n",
        "11: 0.00015072051955\n",
        "12: 7.53516441754e-05\n",
        "13: 3.76736691495e-05\n",
        "14: 1.88362964619e-05\n",
        "15: 9.4180137211e-06"
       ]
      },
      {
       "output_type": "stream",
       "stream": "stdout",
       "text": [
        "\n",
        "16: 4.70897323272e-06"
       ]
      },
      {
       "output_type": "stream",
       "stream": "stdout",
       "text": [
        "\n",
        "17: 2.35447820717e-06"
       ]
      },
      {
       "output_type": "stream",
       "stream": "stdout",
       "text": [
        "\n",
        "\n",
        "[ 3.5473348   2.52460364  2.17483874  2.07151581  2.03233229  2.01537415\n",
        "  2.00749693  2.0037019   2.00183943  2.00091685  2.00045771  2.00022868\n",
        "  2.00011429  2.00005714  2.00002856  2.00001428  2.00000714]\n"
       ]
      }
     ],
     "prompt_number": 127
    },
    {
     "cell_type": "code",
     "collapsed": false,
     "input": [
      "semilogy(range(n_range),e_euler,'o-')\n",
      "xlabel(r'$n$')\n",
      "ylabel(r'$e_n$')"
     ],
     "language": "python",
     "metadata": {},
     "outputs": [
      {
       "metadata": {},
       "output_type": "pyout",
       "prompt_number": 128,
       "text": [
        "<matplotlib.text.Text at 0x7f1fb416e9d0>"
       ]
      },
      {
       "metadata": {},
       "output_type": "display_data",
       "png": "[encoded data removed]",
       "text": [
        "<matplotlib.figure.Figure at 0x7f1fb4123910>"
       ]
      }
     ],
     "prompt_number": 128
    },
    {
     "cell_type": "heading",
     "level": 1,
     "metadata": {},
     "source": [
      "Konvergenz Heun"
     ]
    },
    {
     "cell_type": "code",
     "collapsed": false,
     "input": [
      "error(y_heun,y_sol(t_heun))"
     ],
     "language": "python",
     "metadata": {},
     "outputs": [
      {
       "latex": [
        "$$0.00233119405926$$"
       ],
       "metadata": {},
       "output_type": "pyout",
       "png": "[encoded data removed]",
       "prompt_number": 129,
       "text": [
        "0.00233119405926"
       ]
      }
     ],
     "prompt_number": 129
    },
    {
     "cell_type": "code",
     "collapsed": false,
     "input": [
      "e_heun = []\n",
      "for i in range(n_range):\n",
      "    dt = 1./(2.**i)\n",
      "    y , t = solve_ode(heun,f,y0,tend,dt)\n",
      "    e_heun.append(error(y,y_sol(t)))\n",
      "    print '{}: {}'.format(i,error(y,y_sol(t)))\n",
      "print\n",
      "\n",
      "e_heun = array(e_heun)\n",
      "print e_heun[:-1]/e_heun[1:]"
     ],
     "language": "python",
     "metadata": {},
     "outputs": [
      {
       "output_type": "stream",
       "stream": "stdout",
       "text": [
        "0: 0.611410284676\n",
        "1: 0.101001385033\n",
        "2: 0.0178749493541\n",
        "3: 0.00376427007467\n",
        "4: 0.000867810614543\n",
        "5: 0.000208662319045\n",
        "6: 5.1180630883e-05\n",
        "7: 1.26751484275e-05\n",
        "8: 3.15397702688e-06\n",
        "9: 7.86654835425e-07\n",
        "10: 1.964345184e-07\n",
        "11: 4.90800258383e-08\n",
        "12: 1.22664341379e-08\n",
        "13: 3.06616195286e-09\n",
        "14: 7.66484126895e-10"
       ]
      },
      {
       "output_type": "stream",
       "stream": "stdout",
       "text": [
        "\n",
        "15: 1.91615414404e-10"
       ]
      },
      {
       "output_type": "stream",
       "stream": "stdout",
       "text": [
        "\n",
        "16: 4.79039536013e-11"
       ]
      },
      {
       "output_type": "stream",
       "stream": "stdout",
       "text": [
        "\n",
        "17: 1.19728457986e-11"
       ]
      },
      {
       "output_type": "stream",
       "stream": "stdout",
       "text": [
        "\n",
        "\n",
        "[ 6.05348416  5.65044314  4.74858312  4.33766309  4.15892346  4.07697825\n",
        "  4.03787231  4.01878274  4.00935313  4.00466701  4.00233119  4.00116491\n",
        "  4.00058259  4.00029413  4.00011726  3.99999165  4.00104991]\n"
       ]
      }
     ],
     "prompt_number": 130
    },
    {
     "cell_type": "code",
     "collapsed": false,
     "input": [
      "semilogy(range(n_range),e_heun,'o-')\n",
      "xlabel(r'$n$')\n",
      "ylabel(r'$e_n$')"
     ],
     "language": "python",
     "metadata": {},
     "outputs": [
      {
       "metadata": {},
       "output_type": "pyout",
       "prompt_number": 131,
       "text": [
        "<matplotlib.text.Text at 0x7f1fb3f7a290>"
       ]
      },
      {
       "metadata": {},
       "output_type": "display_data",
       "png": "[encoded data removed]",
       "text": [
        "<matplotlib.figure.Figure at 0x7f1fb4123a10>"
       ]
      }
     ],
     "prompt_number": 131
    },
    {
     "cell_type": "code",
     "collapsed": false,
     "input": [
      "semilogy(range(n_range),e_heun,'o-')\n",
      "semilogy(range(n_range),e_euler,'o-')\n",
      "xlabel(r'$n$')\n",
      "ylabel(r'$e_n$')"
     ],
     "language": "python",
     "metadata": {},
     "outputs": [
      {
       "metadata": {},
       "output_type": "pyout",
       "prompt_number": 132,
       "text": [
        "<matplotlib.text.Text at 0x7f1fb3d60dd0>"
       ]
      },
      {
       "metadata": {},
       "output_type": "display_data",
       "png": "[encoded data removed]",
       "text": [
        "<matplotlib.figure.Figure at 0x7f1fb3eee1d0>"
       ]
      }
     ],
     "prompt_number": 132
    },
    {
     "cell_type": "heading",
     "level": 1,
     "metadata": {},
     "source": [
      "Zahl der Berechnungen von f"
     ]
    },
    {
     "cell_type": "markdown",
     "metadata": {},
     "source": [
      "Euler: 1x pro Zeitschritt, \n",
      "Heun: 2x pro Zeitschritt"
     ]
    },
    {
     "cell_type": "code",
     "collapsed": false,
     "input": [
      "semilogy(arange(n_range)*2,e_heun,'o-')\n",
      "semilogy(arange(n_range),e_euler,'o-')\n",
      "xlabel(r'# of $f(y,t)$ evaluations')\n",
      "ylabel(r'$e_n$')"
     ],
     "language": "python",
     "metadata": {},
     "outputs": []
    },
    {
     "cell_type": "code",
     "collapsed": false,
     "input": [
      "# semilogy(arange(n_range/2+1)*2,e_heun[:n_range/2+1],'o-')\n",
      "# semilogy(arange(n_range),e_euler,'o-')\n",
      "plot(arange(n_range/2+1),e_euler[::2]/e_heun[:n_range/2+1],'o-')\n",
      "xlabel(r'# of $f(y,t)$ evaluations')\n",
      "ylabel(r'$e_n$')"
     ],
     "language": "python",
     "metadata": {},
     "outputs": []
    },
    {
     "cell_type": "code",
     "collapsed": false,
     "input": [],
     "language": "python",
     "metadata": {},
     "outputs": []
    }
   ],
   "metadata": {}
  }
 ]
}