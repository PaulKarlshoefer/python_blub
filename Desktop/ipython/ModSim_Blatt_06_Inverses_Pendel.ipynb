{
 "metadata": {
  "name": "",
  "signature": "sha256:aeaab6d540e5e9014eb9bff0b15c5922ebb436880655b57687658a2adbf4bde5"
 },
 "nbformat": 3,
 "nbformat_minor": 0,
 "worksheets": [
  {
   "cells": [
    {
     "cell_type": "heading",
     "level": 1,
     "metadata": {},
     "source": [
      "ODE f\u00fcr Regelung vom inversen Pendel"
     ]
    },
    {
     "cell_type": "markdown",
     "metadata": {},
     "source": [
      "##Hinweis:##\n",
      "###Die Animation am Ende des Notebooks <font color=red>funktioniert</font> nur, wenn PyLab <font color=red>nicht im inline-Modus</font> l\u00e4uft.###\n",
      "###Wir empfehlen daher das Notebook herunterzuladen und lokal in einer eigenen Installation von IPython Notebook auszuf\u00fchren.###"
     ]
    },
    {
     "cell_type": "code",
     "collapsed": false,
     "input": [
      "\n",
      "import numpy as np\n",
      "import scipy as sp\n",
      "import scipy.linalg\n",
      "\n",
      "import sympy as sym\n",
      "from sympy.abc import phi, theta, x, y\n",
      "\n",
      "from sympy import sin, cos, collect, simplify, sympify, expand, Matrix #, separate\n",
      "from sympy import Derivative as D\n",
      "\n",
      "# pritty printing for mathematics\n",
      "from sympy.interactive import printing\n",
      "printing.init_printing(use_latex=True)\n",
      "\n",
      "t_, u_ = sym.symbols('t u')\n",
      "s_ = sym.Function('s') (t_)\n",
      "phi_ = sym.Function('phi') (t_)\n"
     ],
     "language": "python",
     "metadata": {},
     "outputs": [],
     "prompt_number": 45
    },
    {
     "cell_type": "markdown",
     "metadata": {},
     "source": [
      "##Beispielgr\u00f6\u00dfen##\n",
      "Zahlenwerte im Beispiel (Wagenmasse, Stabmasse, halbe Stabl\u00e4nge, Erdbeschleunigung):"
     ]
    },
    {
     "cell_type": "code",
     "collapsed": false,
     "input": [
      "M_, m_, L_, g_, y0_, Ks_, Ksp_, Kp_, Kpp_ = sym.symbols('M m L g y0 Ks Ksp Kp Kpp')\n",
      "Konstanten = [[y0_, L_], [M_, 0.981], [m_, 0.08], [L_, 0.312], [g_, 9.81]]\n",
      "K_ungeregelt = [[Ks_, 0], [Ksp_, 0], [Kp_, 0], [Kpp_, 0]]\n",
      "K_geregelt = [[Ks_, 5.088], [Ksp_, 5.258], [Kp_, 35.39], [Kpp_, 7.174]]\n"
     ],
     "language": "python",
     "metadata": {},
     "outputs": [],
     "prompt_number": 8
    },
    {
     "cell_type": "code",
     "collapsed": false,
     "input": [
      "# Systemmatrix A\n",
      "A = Matrix([\n",
      "[0,   1,                             0,   0],\n",
      "[0,   0,          -3*m_*g_ / (4*M_+m_),   0],\n",
      "[0,   0,                             0,   1],\n",
      "[0,   0, 3*g_*(m_+M_) / (L_*(4*M_+m_)),   0]])\n",
      "A"
     ],
     "language": "python",
     "metadata": {},
     "outputs": [
      {
       "latex": [
        "$$\\left[\\begin{matrix}0 & 1 & 0 & 0\\\\0 & 0 & - \\frac{3 g m}{4 M + m} & 0\\\\0 & 0 & 0 & 1\\\\0 & 0 & \\frac{3 g \\left(M + m\\right)}{L \\left(4 M + m\\right)} & 0\\end{matrix}\\right]$$"
       ],
       "metadata": {},
       "output_type": "pyout",
       "png": "[encoded data removed]",
       "prompt_number": 15,
       "text": [
        "\u23a10  1       0       0\u23a4\n",
        "\u23a2                    \u23a5\n",
        "\u23a2        -3\u22c5g\u22c5m      \u23a5\n",
        "\u23a20  0    \u2500\u2500\u2500\u2500\u2500\u2500\u2500    0\u23a5\n",
        "\u23a2        4\u22c5M + m     \u23a5\n",
        "\u23a2                    \u23a5\n",
        "\u23a20  0       0       1\u23a5\n",
        "\u23a2                    \u23a5\n",
        "\u23a2      3\u22c5g\u22c5(M + m)   \u23a5\n",
        "\u23a20  0  \u2500\u2500\u2500\u2500\u2500\u2500\u2500\u2500\u2500\u2500\u2500  0\u23a5\n",
        "\u23a3      L\u22c5(4\u22c5M + m)   \u23a6"
       ]
      }
     ],
     "prompt_number": 15
    },
    {
     "cell_type": "code",
     "collapsed": false,
     "input": [
      "# Spaltenvektor repr\u00e4sentiert Matrix B\n",
      "B = Matrix([\n",
      "[                 0],\n",
      "[    -4 / (m_+4*M_)],\n",
      "[                 0],\n",
      "[3 / (L_*(m_+4*M_))]])\n",
      "B"
     ],
     "language": "python",
     "metadata": {},
     "outputs": [
      {
       "latex": [
        "$$\\left[\\begin{matrix}0\\\\- \\frac{4}{4 M + m}\\\\0\\\\\\frac{3}{L \\left(4 M + m\\right)}\\end{matrix}\\right]$$"
       ],
       "metadata": {},
       "output_type": "pyout",
       "png": "[encoded data removed]",
       "prompt_number": 16,
       "text": [
        "\u23a1     0     \u23a4\n",
        "\u23a2           \u23a5\n",
        "\u23a2    -4     \u23a5\n",
        "\u23a2  \u2500\u2500\u2500\u2500\u2500\u2500\u2500  \u23a5\n",
        "\u23a2  4\u22c5M + m  \u23a5\n",
        "\u23a2           \u23a5\n",
        "\u23a2     0     \u23a5\n",
        "\u23a2           \u23a5\n",
        "\u23a2     3     \u23a5\n",
        "\u23a2\u2500\u2500\u2500\u2500\u2500\u2500\u2500\u2500\u2500\u2500\u2500\u23a5\n",
        "\u23a3L\u22c5(4\u22c5M + m)\u23a6"
       ]
      }
     ],
     "prompt_number": 16
    },
    {
     "cell_type": "code",
     "collapsed": false,
     "input": [
      "# Zeilenvektor repr\u00e4sentiert Matrix K\n",
      "K = Matrix([[Ks_, Ksp_, Kp_, Kpp_]])\n",
      "K"
     ],
     "language": "python",
     "metadata": {},
     "outputs": [
      {
       "latex": [
        "$$\\left[\\begin{matrix}Ks & Ksp & Kp & Kpp\\end{matrix}\\right]$$"
       ],
       "metadata": {},
       "output_type": "pyout",
       "png": "[encoded data removed]",
       "prompt_number": 19,
       "text": [
        "[Ks  Ksp  Kp  Kpp]"
       ]
      }
     ],
     "prompt_number": 19
    },
    {
     "cell_type": "code",
     "collapsed": false,
     "input": [
      "M = A - B*K\n",
      "M"
     ],
     "language": "python",
     "metadata": {},
     "outputs": [
      {
       "latex": [
        "$$\\left[\\begin{matrix}0 & 1 & 0 & 0\\\\\\frac{4 Ks}{4 M + m} & \\frac{4 Ksp}{4 M + m} & \\frac{4 Kp}{4 M + m} - \\frac{3 g m}{4 M + m} & \\frac{4 Kpp}{4 M + m}\\\\0 & 0 & 0 & 1\\\\- \\frac{3 Ks}{L \\left(4 M + m\\right)} & - \\frac{3 Ksp}{L \\left(4 M + m\\right)} & - \\frac{3 Kp}{L \\left(4 M + m\\right)} + \\frac{3 g \\left(M + m\\right)}{L \\left(4 M + m\\right)} & - \\frac{3 Kpp}{L \\left(4 M + m\\right)}\\end{matrix}\\right]$$"
       ],
       "metadata": {},
       "output_type": "pyout",
       "png": "[encoded data removed]",
       "prompt_number": 18,
       "text": [
        "\u23a1     0            1                    0                    0     \u23a4\n",
        "\u23a2                                                                  \u23a5\n",
        "\u23a2    4\u22c5Ks        4\u22c5Ksp            4\u22c5Kp     3\u22c5g\u22c5m           4\u22c5Kpp   \u23a5\n",
        "\u23a2  \u2500\u2500\u2500\u2500\u2500\u2500\u2500      \u2500\u2500\u2500\u2500\u2500\u2500\u2500         \u2500\u2500\u2500\u2500\u2500\u2500\u2500 - \u2500\u2500\u2500\u2500\u2500\u2500\u2500         \u2500\u2500\u2500\u2500\u2500\u2500\u2500  \u23a5\n",
        "\u23a2  4\u22c5M + m      4\u22c5M + m         4\u22c5M + m   4\u22c5M + m         4\u22c5M + m  \u23a5\n",
        "\u23a2                                                                  \u23a5\n",
        "\u23a2     0            0                    0                    1     \u23a5\n",
        "\u23a2                                                                  \u23a5\n",
        "\u23a2   -3\u22c5Ks       -3\u22c5Ksp           3\u22c5Kp      3\u22c5g\u22c5(M + m)    -3\u22c5Kpp   \u23a5\n",
        "\u23a2\u2500\u2500\u2500\u2500\u2500\u2500\u2500\u2500\u2500\u2500\u2500  \u2500\u2500\u2500\u2500\u2500\u2500\u2500\u2500\u2500\u2500\u2500  - \u2500\u2500\u2500\u2500\u2500\u2500\u2500\u2500\u2500\u2500\u2500 + \u2500\u2500\u2500\u2500\u2500\u2500\u2500\u2500\u2500\u2500\u2500  \u2500\u2500\u2500\u2500\u2500\u2500\u2500\u2500\u2500\u2500\u2500\u23a5\n",
        "\u23a3L\u22c5(4\u22c5M + m)  L\u22c5(4\u22c5M + m)    L\u22c5(4\u22c5M + m)   L\u22c5(4\u22c5M + m)  L\u22c5(4\u22c5M + m)\u23a6"
       ]
      }
     ],
     "prompt_number": 18
    },
    {
     "cell_type": "markdown",
     "metadata": {},
     "source": [
      "**Hinweis:** Hier kann man auch ``K_geregelt`` gegen ``K_ungeregelt`` austauschen"
     ]
    },
    {
     "cell_type": "code",
     "collapsed": false,
     "input": [
      "# Substitution der Symbole mit tats\u00e4chlichen Werten\n",
      "ersetzeSymbole = lambda r: r.subs(K_geregelt + Konstanten)\n",
      "Mnum = ersetzeSymbole(M)\n",
      "Mnum"
     ],
     "language": "python",
     "metadata": {},
     "outputs": [
      {
       "latex": [
        "$$\\left[\\begin{matrix}0 & 1 & 0 & 0\\\\5.08291708291708 & 5.25274725274725 & 34.7666333666334 & 7.16683316683317\\\\0 & 0 & 0 & 1\\\\-12.2185506800891 & -12.6267962806424 & -59.9919071313302 & -17.227964343349\\end{matrix}\\right]$$"
       ],
       "metadata": {},
       "output_type": "pyout",
       "png": "[encoded data removed]",
       "prompt_number": 104,
       "text": [
        "\u23a1        0                  1                  0                 0        \u23a4\n",
        "\u23a2                                                                         \u23a5\n",
        "\u23a25.08291708291708   5.25274725274725   34.7666333666334   7.16683316683317\u23a5\n",
        "\u23a2                                                                         \u23a5\n",
        "\u23a2        0                  0                  0                 1        \u23a5\n",
        "\u23a2                                                                         \u23a5\n",
        "\u23a3-12.2185506800891  -12.6267962806424  -59.9919071313302  -17.227964343349\u23a6"
       ]
      }
     ],
     "prompt_number": 104
    },
    {
     "cell_type": "code",
     "collapsed": false,
     "input": [
      "# Berechnung der Eigenwerte (und -vektoren)\n",
      "eigvals, eigvecs = sp.linalg.eig(Mnum)\n",
      "Matrix(eigvals)\n"
     ],
     "language": "python",
     "metadata": {},
     "outputs": [
      {
       "latex": [
        "$$\\left[\\begin{matrix}-4.94794571604406\\\\-2.00811768848686 + 2.00321411974352 i\\\\-2.00811768848686 - 2.00321411974352 i\\\\-3.01103599758395\\end{matrix}\\right]$$"
       ],
       "metadata": {},
       "output_type": "pyout",
       "png": "[encoded data removed]",
       "prompt_number": 105,
       "text": [
        "\u23a1             -4.94794571604406              \u23a4\n",
        "\u23a2                                            \u23a5\n",
        "\u23a2   -2.00811768848686 + 2.00321411974352\u22c5\u2148   \u23a5\n",
        "\u23a2                                            \u23a5\n",
        "\u23a2-2.00811768848686 - -2.00321411974352\u22c5(-1)\u22c5\u2148\u23a5\n",
        "\u23a2                                            \u23a5\n",
        "\u23a3             -3.01103599758395              \u23a6"
       ]
      }
     ],
     "prompt_number": 105
    },
    {
     "cell_type": "code",
     "collapsed": false,
     "input": [
      "from sympy.mpmath import *"
     ],
     "language": "python",
     "metadata": {},
     "outputs": [],
     "prompt_number": 106
    },
    {
     "cell_type": "markdown",
     "metadata": {},
     "source": [
      "Setze Initialwerte ferst \n",
      "$$\\text{start} = (s(0), \\dot{s}(0), \\phi(0), \\dot{\\phi}(0))^T$$\n",
      "**Hinweis:** probiere vor allem unterschiedliche (kleinere) Werte von $\\phi_0$ aus"
     ]
    },
    {
     "cell_type": "code",
     "collapsed": false,
     "input": [
      "start = [0.0, 0.0, 0.05, 0.0] # Initialwerte\n",
      "f = odefun(lambda x, y: np.squeeze(np.asarray(Mnum*np.matrix([[y[0]], [y[1]], [y[2]], [y[3]]]))), 0, start)\n",
      "print \"Computation done\""
     ],
     "language": "python",
     "metadata": {},
     "outputs": [
      {
       "output_type": "stream",
       "stream": "stdout",
       "text": [
        "Computation done\n"
       ]
      }
     ],
     "prompt_number": 107
    },
    {
     "cell_type": "code",
     "collapsed": false,
     "input": [
      "import numpy as np\n",
      "from matplotlib import pyplot as plt\n",
      "from matplotlib import animation\n",
      "\n",
      "fig = plt.figure()\n",
      "#fig.set_dpi(100)\n",
      "#fig.set_size_inches(7, 6.5)\n",
      "\n",
      "ax = plt.axes(xlim=(-0.6, 0.6), ylim=(0, 1.2))\n",
      "\n",
      "w_2 = 0.1\n",
      "h_2 = 0.05\n",
      "\n",
      "t_end = 10.0\n",
      "t_steps = 200\n",
      "frames = 80\n",
      "steps_per_frame = float(t_steps) / float(frames)\n",
      "\n",
      "circle = plt.Circle((0, 0.8), 0.1, fc='r')\n",
      "drawCircle = True\n",
      "f_t = None\n",
      "\n",
      "def init():\n",
      "    bar_back = plt.Rectangle((-0.5, 0.8), 1, 0.1, fc=(0.8, 0.8, 0.8))\n",
      "    ax.add_patch(bar_back)\n",
      "    return bar_back,\n",
      "\n",
      "def animate(i):\n",
      "    f_t = map(float, f(float(i)*t_end/t_steps))\n",
      "    # the pole mounted on the \"car\"\n",
      "    pole = plt.Line2D((f_t[0], f_t[0] + (2*L_).subs(Konstanten)*np.cos(np.pi/2-f_t[2])), (h_2, (h_2+2*L_).subs(Konstanten)*np.sin(np.pi/2-f_t[2])))\n",
      "    ax.add_line(pole)\n",
      "    # the \"car\"\n",
      "    car = plt.Rectangle((f_t[0]-w_2, 0), 2*w_2, 2*h_2, fc='y')\n",
      "    ax.add_patch(car)\n",
      "    # the front of the progress bar\n",
      "    bar_front = plt.Rectangle((-0.5, 0.8), 1.*steps_per_frame*float(i)/(t_steps-1), 0.1, fc=(0.0,)*3)\n",
      "    ax.add_patch(bar_front)\n",
      "    \n",
      "    if i == 0: #False and drawCircle:\n",
      "        ax.add_patch(circle)\n",
      "        #drawCircle = False\n",
      "        return car, pole, bar_front, circle,\n",
      "    return car, pole, bar_front,\n",
      "\n",
      "anim = animation.FuncAnimation(fig, animate, \n",
      "                               init_func=init, \n",
      "                               frames=frames, \n",
      "                               interval=t_steps,\n",
      "                               blit=True)\n",
      "\n",
      "plt.show()"
     ],
     "language": "python",
     "metadata": {},
     "outputs": [],
     "prompt_number": 108
    }
   ],
   "metadata": {}
  }
 ]
}